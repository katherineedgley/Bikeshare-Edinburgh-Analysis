{
 "cells": [
  {
   "cell_type": "code",
   "execution_count": 1,
   "metadata": {},
   "outputs": [],
   "source": [
    "import pandas as pd\n",
    "import numpy as np\n",
    "import scipy.stats as stats\n",
    "import matplotlib.pyplot as plt\n",
    "from pyproj import Geod\n",
    "import folium   # using folium to display the data on a map"
   ]
  },
  {
   "cell_type": "code",
   "execution_count": 2,
   "metadata": {},
   "outputs": [],
   "source": [
    "def read_data():\n",
    "    base_url = \"https://data.urbansharing.com/edinburghcyclehire.com/trips/v1/\"\n",
    "    month = ['01', '02', '03', '04', '05', '06', '07', '08', '09', '10', '11', '12']\n",
    "    path_2019 = [base_url + '2019' + '/' + x + '.csv' for x in month]\n",
    "    path_2020 = [base_url + '2020' + '/' + x + '.csv' for x in month[0:4]]\n",
    "    path_list = path_2019 + path_2020\n",
    "    \n",
    "    data_list = (pd.read_csv(path) for path in path_list)\n",
    "    data = pd.concat(data_list, ignore_index=True)\n",
    "    \n",
    "    return(data)  "
   ]
  },
  {
   "cell_type": "code",
   "execution_count": 3,
   "metadata": {},
   "outputs": [],
   "source": [
    "def distance(startLat,startLon,endLat,endLon):\n",
    "    '''\n",
    "    Function to compute the distance given start and end latitude and longitude\n",
    "    Inputs: startLat - starting latitude\n",
    "            startLon - starting longitude\n",
    "            endLat - ending latitude\n",
    "            endLon - ending longitude\n",
    "    Output: distance between two coordinates on the earth in meters\n",
    "    '''\n",
    "    earth = Geod(ellps='WGS84') # define the shape of the earth for computing distance\n",
    "\n",
    "    # use the method in the Geod/pyproj package that computes the distance\n",
    "    # Order is switched for this function  \n",
    "    a1,a2,dist = earth.inv(startLon,startLat,endLon,endLat,radians=False) \n",
    "    return dist\n",
    "\n",
    "\n",
    "def process_data(data):\n",
    "\n",
    "    data['started_at'] = pd.to_datetime(data['started_at'])   # change start-time column to datetime format\n",
    "    data['ended_at'] = pd.to_datetime(data['ended_at'])    # change end-time column to datetime format\n",
    "    # Add entries for start and end hour: used later in code\n",
    "    data['start_hour'] = pd.DatetimeIndex(data['started_at']).hour\n",
    "    data['end_hour'] = pd.DatetimeIndex(data['ended_at']).hour  \n",
    "    \n",
    "    # Append a column to the data containing the approximate distances of each journey\n",
    "    data['distance'] = distance(data['start_station_latitude'].tolist(), \n",
    "                                data['start_station_longitude'].tolist(),\n",
    "                                data['end_station_latitude'].tolist(), \n",
    "                                data['end_station_longitude'].tolist())\n",
    "\n",
    "\n",
    "    # create a column with the day of the week the journey starts on:\n",
    "    data[\"date\"] = data.started_at.dt.date\n",
    "    data['day_of_week'] = data.started_at.dt.dayofweek \n",
    "    data['day_name'] = data.started_at.dt.day_name()\n",
    "    data['month'] = data.started_at.dt.month\n",
    "    data['month_name'] = data.started_at.dt.month_name()\n",
    "    data['year'] = data.started_at.dt.year\n",
    "    data[\"day_of_month\"] = data.started_at.dt.day\n",
    "    data['week'] = data.started_at.dt.week\n",
    "    data['is_weekend'] = data.day_name.isin(['Saturday','Sunday'])\n",
    "\n",
    "\n",
    "    \n",
    "    return data"
   ]
  },
  {
   "cell_type": "code",
   "execution_count": 4,
   "metadata": {},
   "outputs": [],
   "source": [
    "def load_processed_data():\n",
    "    data = read_data()\n",
    "    data = process_data(data)\n",
    "    \n",
    "    return(data)"
   ]
  },
  {
   "cell_type": "code",
   "execution_count": null,
   "metadata": {},
   "outputs": [],
   "source": []
  }
 ],
 "metadata": {
  "kernelspec": {
   "display_name": "Python 3",
   "language": "python",
   "name": "python3"
  },
  "language_info": {
   "codemirror_mode": {
    "name": "ipython",
    "version": 3
   },
   "file_extension": ".py",
   "mimetype": "text/x-python",
   "name": "python",
   "nbconvert_exporter": "python",
   "pygments_lexer": "ipython3",
   "version": "3.6.9"
  }
 },
 "nbformat": 4,
 "nbformat_minor": 2
}
